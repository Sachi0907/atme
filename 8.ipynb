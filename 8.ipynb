{
 "cells": [
  {
   "cell_type": "code",
   "execution_count": 4,
   "id": "3d8b15b7",
   "metadata": {
    "scrolled": false
   },
   "outputs": [
    {
     "name": "stdout",
     "output_type": "stream",
     "text": [
      "Iris dataset loaded...\n",
      "Dataset is split into training and testing...\n",
      "Size of training data and its label (120, 4) (120,)\n",
      "size of testing data and its label (30, 4) (30,)\n",
      "Label 0 - setosa\n",
      "Label 1 - versicolor\n",
      "Label 2 - virginica\n",
      "Results of Classification using K-nn with K=1\n",
      "Sample: [4.5 2.3 1.3 0.3] Actual-label: 0 Predicted-label: 0\n",
      "Sample: [7.6 3.  6.6 2.1] Actual-label: 2 Predicted-label: 2\n",
      "Sample: [6.7 3.1 4.4 1.4] Actual-label: 1 Predicted-label: 1\n",
      "Sample: [5.  3.3 1.4 0.2] Actual-label: 0 Predicted-label: 0\n",
      "Sample: [6.  2.7 5.1 1.6] Actual-label: 1 Predicted-label: 2\n",
      "Sample: [5.5 3.5 1.3 0.2] Actual-label: 0 Predicted-label: 0\n",
      "Sample: [4.4 3.2 1.3 0.2] Actual-label: 0 Predicted-label: 0\n",
      "Sample: [5.  3.2 1.2 0.2] Actual-label: 0 Predicted-label: 0\n",
      "Sample: [5.4 3.9 1.3 0.4] Actual-label: 0 Predicted-label: 0\n",
      "Sample: [6.7 2.5 5.8 1.8] Actual-label: 2 Predicted-label: 2\n",
      "Sample: [5.6 2.8 4.9 2. ] Actual-label: 2 Predicted-label: 2\n",
      "Sample: [6.  2.2 4.  1. ] Actual-label: 1 Predicted-label: 1\n",
      "Sample: [6.1 3.  4.9 1.8] Actual-label: 2 Predicted-label: 2\n",
      "Sample: [4.9 3.1 1.5 0.2] Actual-label: 0 Predicted-label: 0\n",
      "Sample: [4.8 3.1 1.6 0.2] Actual-label: 0 Predicted-label: 0\n",
      "Sample: [6.8 2.8 4.8 1.4] Actual-label: 1 Predicted-label: 1\n",
      "Sample: [4.9 2.5 4.5 1.7] Actual-label: 2 Predicted-label: 1\n",
      "Sample: [6.  3.4 4.5 1.6] Actual-label: 1 Predicted-label: 1\n",
      "Sample: [6.4 2.8 5.6 2.1] Actual-label: 2 Predicted-label: 2\n",
      "Sample: [6.8 3.  5.5 2.1] Actual-label: 2 Predicted-label: 2\n",
      "Sample: [5.6 2.7 4.2 1.3] Actual-label: 1 Predicted-label: 1\n",
      "Sample: [6.1 2.9 4.7 1.4] Actual-label: 1 Predicted-label: 1\n",
      "Sample: [4.8 3.4 1.9 0.2] Actual-label: 0 Predicted-label: 0\n",
      "Sample: [5.5 4.2 1.4 0.2] Actual-label: 0 Predicted-label: 0\n",
      "Sample: [5.7 2.8 4.1 1.3] Actual-label: 1 Predicted-label: 1\n",
      "Sample: [6.3 2.8 5.1 1.5] Actual-label: 2 Predicted-label: 1\n",
      "Sample: [5.9 3.  4.2 1.5] Actual-label: 1 Predicted-label: 1\n",
      "Sample: [6.2 2.9 4.3 1.3] Actual-label: 1 Predicted-label: 1\n",
      "Sample: [6.3 2.9 5.6 1.8] Actual-label: 2 Predicted-label: 2\n",
      "Sample: [6.5 3.2 5.1 2. ] Actual-label: 2 Predicted-label: 2\n",
      "Classification accuracy: 0.9\n"
     ]
    }
   ],
   "source": [
    "from sklearn import datasets\n",
    "from sklearn.model_selection import train_test_split\n",
    "from sklearn.neighbors import KNeighborsClassifier\n",
    "\n",
    "iris=datasets.load_iris()\n",
    "print(\"Iris dataset loaded...\")\n",
    "x_train,x_test,y_train,y_test=train_test_split(iris.data,iris.target,test_size=0.2)\n",
    "print(\"Dataset is split into training and testing...\")\n",
    "print(\"Size of training data and its label\",x_train.shape,y_train.shape)\n",
    "print(\"size of testing data and its label\",x_test.shape,y_test.shape)\n",
    "\n",
    "for i in range(len(iris.target_names)):\n",
    "    print(\"Label\",i,\"-\",str(iris.target_names[i]))\n",
    "    \n",
    "classifier=KNeighborsClassifier(n_neighbors=1)\n",
    "y_pred=classifier.fit(x_train,y_train).predict(x_test)\n",
    "print(\"Results of Classification using K-nn with K=1\")\n",
    "\n",
    "for r in range(len(x_test)):\n",
    "    print(\"Sample:\",str(x_test[r]),\"Actual-label:\",str(y_test[r]),\"Predicted-label:\",str(y_pred[r]))\n",
    "    \n",
    "print(\"Classification accuracy:\",classifier.score(x_test,y_test));"
   ]
  },
  {
   "cell_type": "code",
   "execution_count": 18,
   "id": "2b5c52a5",
   "metadata": {},
   "outputs": [
    {
     "name": "stdout",
     "output_type": "stream",
     "text": [
      "0.9666666666666667\n"
     ]
    }
   ],
   "source": [
    "from sklearn import datasets\n",
    "from sklearn.model_selection import train_test_split\n",
    "from sklearn.neighbors import KNeighborsClassifier\n",
    "iris=datasets.load_iris()\n",
    "x_train,x_test,y_train,y_test=train_test_split(iris.data,iris.target,test_size=0.2)\n",
    "classifier=KNeighborsClassifier(n_neighbors=1)\n",
    "y_pred=classifier.fit(x_train,y_train).predict(x_test)\n",
    "print(classifier.score(x_test,y_test))"
   ]
  },
  {
   "cell_type": "code",
   "execution_count": 20,
   "id": "06df999e",
   "metadata": {},
   "outputs": [],
   "source": []
  },
  {
   "cell_type": "code",
   "execution_count": null,
   "id": "0b08ea50",
   "metadata": {},
   "outputs": [],
   "source": []
  }
 ],
 "metadata": {
  "kernelspec": {
   "display_name": "Python 3",
   "language": "python",
   "name": "python3"
  },
  "language_info": {
   "codemirror_mode": {
    "name": "ipython",
    "version": 3
   },
   "file_extension": ".py",
   "mimetype": "text/x-python",
   "name": "python",
   "nbconvert_exporter": "python",
   "pygments_lexer": "ipython3",
   "version": "3.8.8"
  }
 },
 "nbformat": 4,
 "nbformat_minor": 5
}
