{
 "cells": [
  {
   "cell_type": "code",
   "execution_count": 6,
   "id": "6bf8959f",
   "metadata": {},
   "outputs": [
    {
     "name": "stdout",
     "output_type": "stream",
     "text": [
      "Error: 0.06614137226206705-- a:1.8600662368042573, b:-0.7962243178421666\n",
      "Error: 0.01831248988715221-- a:1.3533605603913972, b:-0.6206735673234249\n",
      "Error: 0.011422762970211432-- a:1.1032234861838637, b:-0.347590814908577\n",
      "Error: 0.007176247674245229-- a:0.9068452261129998, b:-0.13319830250762849\n",
      "Error: 0.004558888179990802-- a:0.7526720746347259, b:0.03511752470395558\n",
      "Error: 0.0029456664570710407-- a:0.6316334187867452, b:0.16725934893398114\n",
      "Error: 0.0019513497294632626-- a:0.536608078323685, b:0.2710015934995427\n",
      "Error: 0.0013384979802249415-- a:0.4620053386711436, b:0.35244782273250697\n",
      "Error: 0.0009607639482851434-- a:0.40343602719544874, b:0.416389838678349\n",
      "Error: 0.0007279458172072266-- a:0.35745428091221954, b:0.4665896016596849\n",
      "1.6930984012182055\n",
      "0.037219754002487955\n"
     ]
    },
    {
     "data": {
      "text/plain": [
       "[<matplotlib.lines.Line2D at 0x1c8020f48b0>,\n",
       " <matplotlib.lines.Line2D at 0x1c8020f48e0>]"
      ]
     },
     "execution_count": 6,
     "metadata": {},
     "output_type": "execute_result"
    },
    {
     "data": {
      "image/png": "[encoded data removed]",
      "text/plain": [
       "<Figure size 432x288 with 1 Axes>"
      ]
     },
     "metadata": {
      "needs_background": "light"
     },
     "output_type": "display_data"
    }
   ],
   "source": [
    "import numpy as np\n",
    "import pandas as pd\n",
    "from sklearn.datasets import load_boston\n",
    "import matplotlib.pyplot as plt\n",
    "import math\n",
    "%matplotlib inline\n",
    "\n",
    "boston = load_boston()\n",
    "features = pd.DataFrame(boston.data, columns=boston.feature_names)\n",
    "target = pd.DataFrame(boston.target,columns=['target'])\n",
    "data = pd.concat([features,target],axis=1)\n",
    "x = data['RM']\n",
    "X1 = sorted(np.array(x/x.mean()))\n",
    "X=X1+[i+1 for i in X1]\n",
    "Y=np.sin(X)\n",
    "plt.plot(X,Y)\n",
    "n = int(0.8 * len(X))\n",
    "x_train = X[:n]\n",
    "y_train = Y[:n]\n",
    "x_test = X[n:]\n",
    "y_test = Y[n:]\n",
    "w=np.exp([-(1.2-i)**2/(2*0.1) for i in x_train])\n",
    "plt.plot(x_train, y_train,'r.')\n",
    "plt.plot(x_train,w,'b.')\n",
    "\n",
    "def h(x,a,b):\n",
    "    return a*x + b\n",
    "\n",
    "def error(a,x,b,y,w):\n",
    "    e = 0\n",
    "    m = len(x)\n",
    "    for i in range(m):\n",
    "        e += np.power(h(x[i],a,b)-y[i],2)*w[i]\n",
    "    return (1/(2*m)) * e\n",
    "\n",
    "def step_gradient(a,x,b,y,learning_rate,w):\n",
    "    grad_a = 0\n",
    "    grad_b = 0\n",
    "    m = len(x)\n",
    "    for i in range(m):\n",
    "        grad_a += (2/m)*((h(x[i],a,b)-y[i])*x[i])*w[i]\n",
    "        grad_b += (2/m)*(h(x[i],a,b)-y[i])*w[i]\n",
    "    a = a - (grad_a * learning_rate)\n",
    "    b = b - (grad_b * learning_rate)\n",
    "    return a,b\n",
    "\n",
    "def descend(initial_a, initial_b, x, y, learning_rate, iterations,w):\n",
    "    a = initial_a\n",
    "    b = initial_b\n",
    "    for i in range(iterations):\n",
    "        e = error(a,x,b,y,w)\n",
    "        if i%1000 == 0:\n",
    "            print(f\"Error: {e}-- a:{a}, b:{b}\")\n",
    "        a, b = step_gradient(a,x,b,y, learning_rate,w)\n",
    "    return a,b\n",
    "\n",
    "a = 1.8600662368042573\n",
    "b = -0.7962243178421666\n",
    "learning_rate = 0.01\n",
    "iterations = 10000\n",
    "final_a, final_b = descend(a,b,x_train,y_train, learning_rate, iterations,w)\n",
    "H=[i*final_a+final_b for i in x_train]\n",
    "plt.plot(x_train, y_train,'r.',x_train, H,'b')\n",
    "print(error(a,x_test,b,y_test,w))\n",
    "print(error(final_a,x_test, final_b,y_test,w)) \n",
    "plt.plot(x_test,y_test,'b.',x_train,y_train,'r.')"
   ]
  },
  {
   "cell_type": "code",
   "execution_count": null,
   "id": "cc0932d6",
   "metadata": {},
   "outputs": [],
   "source": []
  },
  {
   "cell_type": "code",
   "execution_count": null,
   "id": "063c3015",
   "metadata": {},
   "outputs": [],
   "source": []
  }
 ],
 "metadata": {
  "kernelspec": {
   "display_name": "Python 3",
   "language": "python",
   "name": "python3"
  },
  "language_info": {
   "codemirror_mode": {
    "name": "ipython",
    "version": 3
   },
   "file_extension": ".py",
   "mimetype": "text/x-python",
   "name": "python",
   "nbconvert_exporter": "python",
   "pygments_lexer": "ipython3",
   "version": "3.8.8"
  }
 },
 "nbformat": 4,
 "nbformat_minor": 5
}
