{
 "cells": [
  {
   "cell_type": "code",
   "execution_count": 3,
   "metadata": {},
   "outputs": [
    {
     "name": "stdout",
     "output_type": "stream",
     "text": [
      "Iris dataset loaded...\n",
      "Dataset is split into training and testing...\n",
      "Size of training data and its label (120, 4) (120,)\n",
      "size of testing data and its label (30, 4) (30,)\n",
      "Label 0 - setosa\n",
      "Label 1 - versicolor\n",
      "Label 2 - virginica\n",
      "Results of Classification using K-nn with K=1\n",
      "Sample: [5.8 2.7 4.1 1. ] Actual-label: 1 Predicted-label: 1\n",
      "Sample: [6.3 3.3 6.  2.5] Actual-label: 2 Predicted-label: 2\n",
      "Sample: [6.9 3.2 5.7 2.3] Actual-label: 2 Predicted-label: 2\n",
      "Sample: [6.  2.7 5.1 1.6] Actual-label: 1 Predicted-label: 2\n",
      "Sample: [4.4 2.9 1.4 0.2] Actual-label: 0 Predicted-label: 0\n",
      "Sample: [6.9 3.1 5.1 2.3] Actual-label: 2 Predicted-label: 2\n",
      "Sample: [5.  2.  3.5 1. ] Actual-label: 1 Predicted-label: 1\n",
      "Sample: [5.8 2.7 3.9 1.2] Actual-label: 1 Predicted-label: 1\n",
      "Sample: [5.1 3.8 1.6 0.2] Actual-label: 0 Predicted-label: 0\n",
      "Sample: [7.  3.2 4.7 1.4] Actual-label: 1 Predicted-label: 1\n",
      "Sample: [6.7 3.  5.2 2.3] Actual-label: 2 Predicted-label: 2\n",
      "Sample: [5.5 2.6 4.4 1.2] Actual-label: 1 Predicted-label: 1\n",
      "Sample: [5.  2.3 3.3 1. ] Actual-label: 1 Predicted-label: 1\n",
      "Sample: [6.1 3.  4.9 1.8] Actual-label: 2 Predicted-label: 1\n",
      "Sample: [6.4 2.9 4.3 1.3] Actual-label: 1 Predicted-label: 1\n",
      "Sample: [4.4 3.  1.3 0.2] Actual-label: 0 Predicted-label: 0\n",
      "Sample: [4.4 3.2 1.3 0.2] Actual-label: 0 Predicted-label: 0\n",
      "Sample: [4.6 3.6 1.  0.2] Actual-label: 0 Predicted-label: 0\n",
      "Sample: [4.5 2.3 1.3 0.3] Actual-label: 0 Predicted-label: 0\n",
      "Sample: [6.4 2.7 5.3 1.9] Actual-label: 2 Predicted-label: 2\n",
      "Sample: [6.8 2.8 4.8 1.4] Actual-label: 1 Predicted-label: 1\n",
      "Sample: [6.7 3.1 5.6 2.4] Actual-label: 2 Predicted-label: 2\n",
      "Sample: [4.8 3.4 1.6 0.2] Actual-label: 0 Predicted-label: 0\n",
      "Sample: [5.  3.5 1.6 0.6] Actual-label: 0 Predicted-label: 0\n",
      "Sample: [5.5 2.3 4.  1.3] Actual-label: 1 Predicted-label: 1\n",
      "Sample: [5.1 3.8 1.5 0.3] Actual-label: 0 Predicted-label: 0\n",
      "Sample: [5.1 2.5 3.  1.1] Actual-label: 1 Predicted-label: 1\n",
      "Sample: [4.3 3.  1.1 0.1] Actual-label: 0 Predicted-label: 0\n",
      "Sample: [6.7 3.1 4.4 1.4] Actual-label: 1 Predicted-label: 1\n",
      "Sample: [6.3 2.9 5.6 1.8] Actual-label: 2 Predicted-label: 2\n",
      "Classification accuracy: 0.9333333333333333\n"
     ]
    }
   ],
   "source": [
    "from sklearn.model_selection import train_test_split\n",
    "from sklearn.neighbors import KNeighborsClassifier\n",
    "from sklearn import datasets\n",
    "\n",
    "iris=datasets.load_iris()\n",
    "\n",
    "print(\"Iris dataset loaded...\")\n",
    "\n",
    "x_train,x_test,y_train,y_test=train_test_split(iris.data,iris.target,test_size=0.2)\n",
    "\n",
    "print(\"Dataset is split into training and testing...\")\n",
    "\n",
    "print(\"Size of training data and its label\",x_train.shape,y_train.shape)\n",
    "\n",
    "print(\"size of testing data and its label\",x_test.shape,y_test.shape)\n",
    "\n",
    "for i in range(len(iris.target_names)):\n",
    "    print(\"Label\",i,\"-\",str(iris.target_names[i]))\n",
    "classifier=KNeighborsClassifier(n_neighbors=33)\n",
    "classifier.fit(x_train,y_train)\n",
    "\n",
    "y_pred=classifier.predict(x_test)\n",
    "\n",
    "print(\"Results of Classification using K-nn with K=1\")\n",
    "for r in range(0,len(x_test)):\n",
    "    print(\"Sample:\",str(x_test[r]),\"Actual-label:\",str(y_test[r]),\"Predicted-label:\",\n",
    "          str(y_pred[r]))\n",
    "print(\"Classification accuracy:\",classifier.score(x_test,y_test));\n"
   ]
  },
  {
   "cell_type": "code",
   "execution_count": null,
   "metadata": {},
   "outputs": [],
   "source": [
    "\\\n"
   ]
  }
 ],
 "metadata": {
  "kernelspec": {
   "display_name": "Python 3",
   "language": "python",
   "name": "python3"
  },
  "language_info": {
   "codemirror_mode": {
    "name": "ipython",
    "version": 3
   },
   "file_extension": ".py",
   "mimetype": "text/x-python",
   "name": "python",
   "nbconvert_exporter": "python",
   "pygments_lexer": "ipython3",
   "version": "3.6.5"
  }
 },
 "nbformat": 4,
 "nbformat_minor": 2
}
