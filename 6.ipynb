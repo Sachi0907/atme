{
 "cells": [
  {
   "cell_type": "code",
   "execution_count": 9,
   "id": "7ed46e88",
   "metadata": {},
   "outputs": [
    {
     "name": "stdout",
     "output_type": "stream",
     "text": [
      "Iris dataset loaded...\n",
      "Data set is split into training and testing ...\n",
      "Size of training data and its lable (120, 4) (120,)\n",
      "Size of testining data and its lable (30, 4) (30,)\n",
      "Lable 0 - setosa\n",
      "Lable 1 - versicolor\n",
      "Lable 2 - virginica\n",
      "Results of classification using Naive Bayes\n",
      "sample :  [5.7 3.8 1.7 0.3] Actual_Lable : 0 Predicted _Lable : 0\n",
      "sample :  [7.3 2.9 6.3 1.8] Actual_Lable : 2 Predicted _Lable : 2\n",
      "sample :  [6.1 3.  4.6 1.4] Actual_Lable : 1 Predicted _Lable : 1\n",
      "sample :  [5.6 2.5 3.9 1.1] Actual_Lable : 1 Predicted _Lable : 1\n",
      "sample :  [6.5 3.  5.8 2.2] Actual_Lable : 2 Predicted _Lable : 2\n",
      "sample :  [6.5 2.8 4.6 1.5] Actual_Lable : 1 Predicted _Lable : 1\n",
      "sample :  [5.8 4.  1.2 0.2] Actual_Lable : 0 Predicted _Lable : 0\n",
      "sample :  [5.  3.4 1.5 0.2] Actual_Lable : 0 Predicted _Lable : 0\n",
      "sample :  [5.4 3.4 1.7 0.2] Actual_Lable : 0 Predicted _Lable : 0\n",
      "sample :  [5.6 2.7 4.2 1.3] Actual_Lable : 1 Predicted _Lable : 1\n",
      "sample :  [5.7 2.9 4.2 1.3] Actual_Lable : 1 Predicted _Lable : 1\n",
      "sample :  [5.6 3.  4.1 1.3] Actual_Lable : 1 Predicted _Lable : 1\n",
      "sample :  [6.3 3.4 5.6 2.4] Actual_Lable : 2 Predicted _Lable : 2\n",
      "sample :  [6.2 2.9 4.3 1.3] Actual_Lable : 1 Predicted _Lable : 1\n",
      "sample :  [5.4 3.9 1.3 0.4] Actual_Lable : 0 Predicted _Lable : 0\n",
      "sample :  [6.8 2.8 4.8 1.4] Actual_Lable : 1 Predicted _Lable : 1\n",
      "sample :  [5.  3.3 1.4 0.2] Actual_Lable : 0 Predicted _Lable : 0\n",
      "sample :  [5.1 3.7 1.5 0.4] Actual_Lable : 0 Predicted _Lable : 0\n",
      "sample :  [6.3 3.3 6.  2.5] Actual_Lable : 2 Predicted _Lable : 2\n",
      "sample :  [6.4 3.2 5.3 2.3] Actual_Lable : 2 Predicted _Lable : 2\n",
      "sample :  [5.7 2.8 4.1 1.3] Actual_Lable : 1 Predicted _Lable : 1\n",
      "sample :  [6.1 3.  4.9 1.8] Actual_Lable : 2 Predicted _Lable : 2\n",
      "sample :  [6.3 3.3 4.7 1.6] Actual_Lable : 1 Predicted _Lable : 1\n",
      "sample :  [7.6 3.  6.6 2.1] Actual_Lable : 2 Predicted _Lable : 2\n",
      "sample :  [6.6 3.  4.4 1.4] Actual_Lable : 1 Predicted _Lable : 1\n",
      "sample :  [6.5 3.  5.2 2. ] Actual_Lable : 2 Predicted _Lable : 2\n",
      "sample :  [5.8 2.7 4.1 1. ] Actual_Lable : 1 Predicted _Lable : 1\n",
      "sample :  [5.5 4.2 1.4 0.2] Actual_Lable : 0 Predicted _Lable : 0\n",
      "sample :  [5.1 3.8 1.5 0.3] Actual_Lable : 0 Predicted _Lable : 0\n",
      "sample :  [5.3 3.7 1.5 0.2] Actual_Lable : 0 Predicted _Lable : 0\n",
      "classification accuracy: 1.0\n"
     ]
    }
   ],
   "source": [
    "from sklearn import datasets\n",
    "from sklearn.model_selection import train_test_split\n",
    "from sklearn.naive_bayes import GaussianNB\n",
    "\n",
    "iris=datasets.load_iris()\n",
    "print(\"Iris dataset loaded...\")\n",
    "\n",
    "X_train,X_test,y_train,y_test=train_test_split(iris.data,iris.target,test_size=0.2,random_state=70)\n",
    "print(\"Data set is split into training and testing ...\")\n",
    "print(\"Size of training data and its lable\",X_train.shape,y_train.shape)\n",
    "print(\"Size of testining data and its lable\",X_test.shape,y_test.shape)\n",
    "\n",
    "for i in range(len(iris.target_names)):\n",
    "    print(\"Lable\",i,\"-\",str(iris.target_names[i]))\n",
    "    \n",
    "gnb=GaussianNB()\n",
    "y_pred=gnb.fit(X_train,y_train).predict(X_test)\n",
    "\n",
    "print(\"Results of classification using Naive Bayes\")\n",
    "for r in range(0,len(X_test)):\n",
    "    print(\"sample : \",str(X_test[r]),\"Actual_Lable :\",str(y_test[r]),\"Predicted _Lable :\",str(y_pred[r]))\n",
    "    \n",
    "print(\"classification accuracy:\",gnb.score(X_test,y_test))"
   ]
  },
  {
   "cell_type": "code",
   "execution_count": 34,
   "id": "0ae6e23f",
   "metadata": {
    "scrolled": false
   },
   "outputs": [
    {
     "name": "stdout",
     "output_type": "stream",
     "text": [
      "Iris Data set loaded\n",
      "Data is split into Training and Testing data\n",
      "Size of training data is : (120, 4) (120,)\n",
      "Size of testing data is : (30, 4) (30,)\n",
      "Lable : 0 - setosa\n",
      "Lable : 1 - versicolor\n",
      "Lable : 2 - virginica\n",
      "Sample : [5.2 2.7 3.9 1.4] Actual_Lable : 1 Predicted _Lable : 1\n",
      "Sample : [6.2 3.4 5.4 2.3] Actual_Lable : 2 Predicted _Lable : 2\n",
      "Sample : [6.9 3.2 5.7 2.3] Actual_Lable : 2 Predicted _Lable : 2\n",
      "Sample : [4.9 3.1 1.5 0.1] Actual_Lable : 0 Predicted _Lable : 0\n",
      "Sample : [6.  2.7 5.1 1.6] Actual_Lable : 1 Predicted _Lable : 1\n",
      "Sample : [4.9 2.4 3.3 1. ] Actual_Lable : 1 Predicted _Lable : 1\n",
      "Sample : [6.  3.4 4.5 1.6] Actual_Lable : 1 Predicted _Lable : 1\n",
      "Sample : [5.1 3.3 1.7 0.5] Actual_Lable : 0 Predicted _Lable : 0\n",
      "Sample : [6.3 2.8 5.1 1.5] Actual_Lable : 2 Predicted _Lable : 1\n",
      "Sample : [6.9 3.1 5.4 2.1] Actual_Lable : 2 Predicted _Lable : 2\n",
      "Sample : [4.3 3.  1.1 0.1] Actual_Lable : 0 Predicted _Lable : 0\n",
      "Sample : [4.9 3.1 1.5 0.2] Actual_Lable : 0 Predicted _Lable : 0\n",
      "Sample : [5.8 2.7 5.1 1.9] Actual_Lable : 2 Predicted _Lable : 2\n",
      "Sample : [5.5 4.2 1.4 0.2] Actual_Lable : 0 Predicted _Lable : 0\n",
      "Sample : [6.1 3.  4.6 1.4] Actual_Lable : 1 Predicted _Lable : 1\n",
      "Sample : [5.4 3.9 1.3 0.4] Actual_Lable : 0 Predicted _Lable : 0\n",
      "Sample : [6.8 3.2 5.9 2.3] Actual_Lable : 2 Predicted _Lable : 2\n",
      "Sample : [6.4 3.2 4.5 1.5] Actual_Lable : 1 Predicted _Lable : 1\n",
      "Sample : [5.  3.4 1.5 0.2] Actual_Lable : 0 Predicted _Lable : 0\n",
      "Sample : [4.8 3.4 1.6 0.2] Actual_Lable : 0 Predicted _Lable : 0\n",
      "Sample : [7.2 3.2 6.  1.8] Actual_Lable : 2 Predicted _Lable : 2\n",
      "Sample : [5.5 3.5 1.3 0.2] Actual_Lable : 0 Predicted _Lable : 0\n",
      "Sample : [6.5 3.  5.2 2. ] Actual_Lable : 2 Predicted _Lable : 2\n",
      "Sample : [5.7 2.6 3.5 1. ] Actual_Lable : 1 Predicted _Lable : 1\n",
      "Sample : [5.5 2.6 4.4 1.2] Actual_Lable : 1 Predicted _Lable : 1\n",
      "Sample : [6.1 2.8 4.  1.3] Actual_Lable : 1 Predicted _Lable : 1\n",
      "Sample : [6.7 3.1 4.4 1.4] Actual_Lable : 1 Predicted _Lable : 1\n",
      "Sample : [5.7 4.4 1.5 0.4] Actual_Lable : 0 Predicted _Lable : 0\n",
      "Sample : [7.7 2.8 6.7 2. ] Actual_Lable : 2 Predicted _Lable : 2\n",
      "Sample : [6.1 2.6 5.6 1.4] Actual_Lable : 2 Predicted _Lable : 1\n",
      "Classification accuracy : 0.9333333333333333\n"
     ]
    }
   ],
   "source": [
    "from sklearn import datasets\n",
    "from sklearn.model_selection import train_test_split\n",
    "from sklearn.naive_bayes import GaussianNB\n",
    "\n",
    "iris=datasets.load_iris()\n",
    "print(\"Iris Data set loaded\")\n",
    "\n",
    "x_train,x_test,y_train,y_test=train_test_split(iris.data,iris.target,test_size=0.2)\n",
    "print(\"Data is split into Training and Testing data\")\n",
    "print(\"Size of training data is :\",x_train.shape,y_train.shape)\n",
    "print(\"Size of testing data is :\",x_test.shape,y_test.shape)\n",
    "\n",
    "for i in range(len(iris.target_names)):\n",
    "    print(\"Lable :\",i,\"-\",iris.target_names[i])\n",
    "    \n",
    "classifier=GaussianNB()\n",
    "y_pred=classifier.fit(x_train,y_train).predict(x_test)\n",
    "\n",
    "for i in range(len(x_test)):\n",
    "    print(\"Sample :\",x_test[i],\"Actual_Lable :\",y_test[i],\"Predicted _Lable :\",y_pred[i])\n",
    "print(\"Classification accuracy :\",classifier.score(x_test,y_test))"
   ]
  },
  {
   "cell_type": "code",
   "execution_count": null,
   "id": "09e55c86",
   "metadata": {},
   "outputs": [],
   "source": []
  }
 ],
 "metadata": {
  "kernelspec": {
   "display_name": "Python 3",
   "language": "python",
   "name": "python3"
  },
  "language_info": {
   "codemirror_mode": {
    "name": "ipython",
    "version": 3
   },
   "file_extension": ".py",
   "mimetype": "text/x-python",
   "name": "python",
   "nbconvert_exporter": "python",
   "pygments_lexer": "ipython3",
   "version": "3.8.8"
  }
 },
 "nbformat": 4,
 "nbformat_minor": 5
}
